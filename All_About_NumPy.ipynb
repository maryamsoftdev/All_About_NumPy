{
  "nbformat": 4,
  "nbformat_minor": 0,
  "metadata": {
    "colab": {
      "provenance": []
    },
    "kernelspec": {
      "name": "python3",
      "display_name": "Python 3"
    },
    "language_info": {
      "name": "python"
    }
  },
  "cells": [
    {
      "cell_type": "markdown",
      "source": [
        "NumPy is a Python library and is written partially in Python, but most of the parts that require fast computation are written in C or C++."
      ],
      "metadata": {
        "id": "Rl0NVqY954uT"
      }
    },
    {
      "cell_type": "code",
      "execution_count": 1,
      "metadata": {
        "colab": {
          "base_uri": "https://localhost:8080/"
        },
        "id": "BL3jpii05a9L",
        "outputId": "dac06d58-23e4-4b63-ea2b-75385ec3d44e"
      },
      "outputs": [
        {
          "output_type": "stream",
          "name": "stdout",
          "text": [
            "[1 2 3 4 5]\n",
            "<class 'numpy.ndarray'>\n"
          ]
        }
      ],
      "source": [
        "import numpy as np\n",
        "\n",
        "arr = np.array([1, 2, 3, 4, 5])\n",
        "\n",
        "print(arr)\n",
        "\n",
        "print(type(arr))"
      ]
    },
    {
      "cell_type": "code",
      "source": [
        "import numpy as np\n",
        "\n",
        "print(np.__version__)"
      ],
      "metadata": {
        "colab": {
          "base_uri": "https://localhost:8080/"
        },
        "id": "a0N-NaDI6UdO",
        "outputId": "b1d84245-456a-4f4c-c5fc-fe94442e5696"
      },
      "execution_count": 2,
      "outputs": [
        {
          "output_type": "stream",
          "name": "stdout",
          "text": [
            "1.25.2\n"
          ]
        }
      ]
    },
    {
      "cell_type": "markdown",
      "source": [
        "# 0-D Arrays\n",
        "0-D are scalers basically\n"
      ],
      "metadata": {
        "id": "SDswajK553yO"
      }
    },
    {
      "cell_type": "code",
      "source": [
        "import numpy as np\n",
        "\n",
        "arr = np.array(42)\n",
        "\n",
        "print(arr)"
      ],
      "metadata": {
        "colab": {
          "base_uri": "https://localhost:8080/"
        },
        "id": "26mAnvdc7QyZ",
        "outputId": "ec4102d0-594d-4135-a0f0-d71a13aea87c"
      },
      "execution_count": 3,
      "outputs": [
        {
          "output_type": "stream",
          "name": "stdout",
          "text": [
            "42\n"
          ]
        }
      ]
    },
    {
      "cell_type": "markdown",
      "source": [
        "# 1-D Arrays"
      ],
      "metadata": {
        "id": "NC9FdeOT7YxT"
      }
    },
    {
      "cell_type": "code",
      "source": [
        "arr = np.array([1, 2, 3, 4, 5])\n",
        "\n",
        "print(arr)"
      ],
      "metadata": {
        "colab": {
          "base_uri": "https://localhost:8080/"
        },
        "id": "GkK-bXht7aJD",
        "outputId": "22f1c194-2012-47e6-f0a0-4f981da9dfa0"
      },
      "execution_count": 4,
      "outputs": [
        {
          "output_type": "stream",
          "name": "stdout",
          "text": [
            "[1 2 3 4 5]\n"
          ]
        }
      ]
    },
    {
      "cell_type": "markdown",
      "source": [
        "# 2-D Arrays"
      ],
      "metadata": {
        "id": "6HC4ySfD7gq3"
      }
    },
    {
      "cell_type": "code",
      "source": [
        "arr = np.array([[1, 2, 3], [4, 5, 6]])\n",
        "\n",
        "print(arr)"
      ],
      "metadata": {
        "colab": {
          "base_uri": "https://localhost:8080/"
        },
        "id": "gFxxLA3n7i7G",
        "outputId": "e07438a9-5b3e-4b66-8054-c33db6ac2254"
      },
      "execution_count": 5,
      "outputs": [
        {
          "output_type": "stream",
          "name": "stdout",
          "text": [
            "[[1 2 3]\n",
            " [4 5 6]]\n"
          ]
        }
      ]
    },
    {
      "cell_type": "markdown",
      "source": [
        "3-D arrays"
      ],
      "metadata": {
        "id": "7JkavVbi7uVK"
      }
    },
    {
      "cell_type": "code",
      "source": [
        "arr = np.array([[[1, 2, 3], [4, 5, 6]], [[1, 2, 3], [4, 5, 6]]])\n",
        "\n",
        "print(arr)"
      ],
      "metadata": {
        "colab": {
          "base_uri": "https://localhost:8080/"
        },
        "id": "k3S6geop7vMl",
        "outputId": "a49be09f-0a5d-4004-cecc-baa11f1c77fa"
      },
      "execution_count": 6,
      "outputs": [
        {
          "output_type": "stream",
          "name": "stdout",
          "text": [
            "[[[1 2 3]\n",
            "  [4 5 6]]\n",
            "\n",
            " [[1 2 3]\n",
            "  [4 5 6]]]\n"
          ]
        }
      ]
    },
    {
      "cell_type": "markdown",
      "source": [
        "# Check Number of Dimensions?\n",
        "\n",
        "ChatGPT\n",
        "NumPy Arrays offer the ndim attribute, indicating the array's dimensions."
      ],
      "metadata": {
        "id": "FT8x1Z8371-P"
      }
    },
    {
      "cell_type": "markdown",
      "source": [],
      "metadata": {
        "id": "QkSRHt208F2Z"
      }
    },
    {
      "cell_type": "code",
      "source": [
        "import numpy as np\n",
        "\n",
        "a = np.array(42)\n",
        "b = np.array([1, 2, 3, 4, 5])\n",
        "c = np.array([[1, 2, 3], [4, 5, 6]])\n",
        "d = np.array([[[1, 2, 3], [4, 5, 6]], [[1, 2, 3], [4, 5, 6]]])\n",
        "\n",
        "print(\"a =\", a.ndim,\"-Dimensional\")\n",
        "print(\"b =\", b.ndim,\"-Dimensional\")\n",
        "print(\"c =\", c.ndim,\"-Dimensional\")\n",
        "print(\"d =\", d.ndim,\"-Dimensional\")\n"
      ],
      "metadata": {
        "colab": {
          "base_uri": "https://localhost:8080/"
        },
        "id": "0VN_jMtX767K",
        "outputId": "a669f427-6d91-4852-d731-1c6157ef3a60"
      },
      "execution_count": 11,
      "outputs": [
        {
          "output_type": "stream",
          "name": "stdout",
          "text": [
            "a = 0 -Dimensional\n",
            "b = 1 -Dimensional\n",
            "c = 2 -Dimensional\n",
            "d = 3 -Dimensional\n"
          ]
        }
      ]
    },
    {
      "cell_type": "markdown",
      "source": [
        "# Higher Dimensional Arrays\n",
        "we can also specify dimentions my ourself"
      ],
      "metadata": {
        "id": "V93cI0UO8-EA"
      }
    },
    {
      "cell_type": "code",
      "source": [
        "import numpy as np\n",
        "\n",
        "arr = np.array([1, 2, 3, 4], ndmin=5)\n",
        "\n",
        "print(arr)\n",
        "print('number of dimensions :', arr.ndim)"
      ],
      "metadata": {
        "colab": {
          "base_uri": "https://localhost:8080/"
        },
        "id": "UClOPSdJ9ElP",
        "outputId": "3de0db01-1e54-4d9c-b6f0-3955b5a667ef"
      },
      "execution_count": 12,
      "outputs": [
        {
          "output_type": "stream",
          "name": "stdout",
          "text": [
            "[[[[[1 2 3 4]]]]]\n",
            "number of dimensions : 5\n"
          ]
        }
      ]
    },
    {
      "cell_type": "code",
      "source": [],
      "metadata": {
        "id": "d8OF9a7l9WHM"
      },
      "execution_count": null,
      "outputs": []
    },
    {
      "cell_type": "markdown",
      "source": [
        "# Access Array Elements"
      ],
      "metadata": {
        "id": "ytetLHtt-i_U"
      }
    },
    {
      "cell_type": "code",
      "source": [
        "#For 1-D array\n",
        "arr = np.array([1, 2, 3, 4])\n",
        "\n",
        "print(arr[0])\n",
        "#For 2-D array\n",
        "arr = np.array([[1,2,3,4,5], [6,7,8,9,10]])\n",
        "\n",
        "print('2nd element on 1st row: ', arr[0, 1])\n",
        "#For 3-D array\n",
        "arr = np.array([[[1, 2, 3], [4, 5, 6]], [[7, 8, 9], [10, 11, 12]]])\n",
        "\n",
        "print(arr[0, 1, 2])\n"
      ],
      "metadata": {
        "id": "tVyYEJZW-ltl"
      },
      "execution_count": null,
      "outputs": []
    },
    {
      "cell_type": "markdown",
      "source": [
        "# NumPy Array Slicing"
      ],
      "metadata": {
        "id": "dBI4Od6D_QTG"
      }
    },
    {
      "cell_type": "code",
      "source": [
        "arr = np.array([1, 2, 3, 4, 5, 6, 7])\n",
        "\n",
        "print(arr[1:5])\n",
        "#print(arr[Start:End])\n",
        "\n",
        "#negative Slicing\n",
        "arr = np.array([1, 2, 3, 4, 5, 6, 7])\n",
        "\n",
        "print(arr[-3:-1])\n",
        "#Slicing 2-D array\n",
        "arr = np.array([[1, 2, 3, 4, 5], [6, 7, 8, 9, 10]])\n",
        "\n",
        "print(arr[1, 1:4])\n",
        "#exaple 2\n",
        "arr = np.array([[1, 2, 3, 4, 5], [6, 7, 8, 9, 10]])\n",
        "\n",
        "print(arr[0:2, 2])\n",
        "#example 3\n",
        "arr = np.array([[1, 2, 3, 4, 5], [6, 7, 8, 9, 10]])\n",
        "\n",
        "print(arr[0:2, 1:4])"
      ],
      "metadata": {
        "colab": {
          "base_uri": "https://localhost:8080/"
        },
        "id": "B8mohIlQ_R6_",
        "outputId": "3c200675-bc41-4352-8edd-c4ea639fac4d"
      },
      "execution_count": 17,
      "outputs": [
        {
          "output_type": "stream",
          "name": "stdout",
          "text": [
            "[2 3 4 5]\n",
            "[5 6]\n",
            "[7 8 9]\n",
            "[3 8]\n",
            "[[2 3 4]\n",
            " [7 8 9]]\n"
          ]
        }
      ]
    },
    {
      "cell_type": "markdown",
      "source": [
        "# Checking the Data Type of an Array\n"
      ],
      "metadata": {
        "id": "z_PrRxOtAE7E"
      }
    },
    {
      "cell_type": "code",
      "source": [
        "\n",
        "arr = np.array([1, 2, 3, 4])\n",
        "\n",
        "print(arr.dtype)\n",
        "#examle 2\n",
        "arr = np.array(['apple', 'banana', 'cherry'])\n",
        "\n",
        "print(arr.dtype)\n",
        "#creating arrray with defined datatype\n",
        "arr = np.array([1, 2, 3, 4], dtype='S')\n",
        "\n",
        "print(arr)\n",
        "print(arr.dtype)\n",
        "#Converting Data Type on Existing Arrays\n",
        "arr = np.array([1.1, 2.1, 3.1])\n",
        "\n",
        "newarr = arr.astype('i')\n",
        "\n",
        "print(newarr)\n",
        "print(newarr.dtype)"
      ],
      "metadata": {
        "colab": {
          "base_uri": "https://localhost:8080/"
        },
        "id": "HhMMn3osAIfO",
        "outputId": "75c241af-6da7-4a04-b3e7-2e248d62c8ca"
      },
      "execution_count": 21,
      "outputs": [
        {
          "output_type": "stream",
          "name": "stdout",
          "text": [
            "int64\n",
            "<U6\n",
            "[b'1' b'2' b'3' b'4']\n",
            "|S1\n",
            "[1 2 3]\n",
            "int32\n"
          ]
        }
      ]
    },
    {
      "cell_type": "markdown",
      "source": [
        "# COPY VS View\n",
        "The primary distinction between an array copy and a view lies in their ownership and behavior regarding modifications.\n",
        "\n",
        "A copy creates a new array, retaining ownership of its data. Changes to it won't affect the original array, and vice versa.\n",
        "\n",
        "In contrast, a view is not a new array; it merely provides a perspective on the original array. As such, changes to the view reflect on the original array, and changes to the original array are reflected in the view."
      ],
      "metadata": {
        "id": "kPnTKVhD3CYM"
      }
    },
    {
      "cell_type": "code",
      "source": [],
      "metadata": {
        "id": "YEKFBXZ23Gix"
      },
      "execution_count": null,
      "outputs": []
    },
    {
      "cell_type": "code",
      "source": [
        "#copy\n",
        "import numpy as np\n",
        "\n",
        "arr = np.array([1, 2, 3, 4, 5])\n",
        "x = arr.copy()\n",
        "arr[0] = 42\n",
        "\n",
        "print(arr)\n",
        "print(x)"
      ],
      "metadata": {
        "colab": {
          "base_uri": "https://localhost:8080/"
        },
        "id": "XE9D6umi3KrB",
        "outputId": "e82cd68d-1f03-416e-e06e-3145f37bf355"
      },
      "execution_count": 2,
      "outputs": [
        {
          "output_type": "stream",
          "name": "stdout",
          "text": [
            "[42  2  3  4  5]\n",
            "[1 2 3 4 5]\n"
          ]
        }
      ]
    },
    {
      "cell_type": "code",
      "source": [
        "#View\n",
        "arr = np.array([1, 2, 3, 4, 5])\n",
        "x = arr.view()\n",
        "arr[0] = 42\n",
        "\n",
        "print(arr)\n",
        "print(x)"
      ],
      "metadata": {
        "colab": {
          "base_uri": "https://localhost:8080/"
        },
        "id": "o0SCbSAy3Pbw",
        "outputId": "7bd75784-7580-4f3e-911c-66ac4ddd31d4"
      },
      "execution_count": 3,
      "outputs": [
        {
          "output_type": "stream",
          "name": "stdout",
          "text": [
            "[42  2  3  4  5]\n",
            "[42  2  3  4  5]\n"
          ]
        }
      ]
    },
    {
      "cell_type": "code",
      "source": [
        "#making changes in View\n",
        "\n",
        "arr = np.array([1, 2, 3, 4, 5])\n",
        "x = arr.view()\n",
        "x[0] = 31\n",
        "\n",
        "print(arr)\n",
        "print(x)"
      ],
      "metadata": {
        "colab": {
          "base_uri": "https://localhost:8080/"
        },
        "id": "7is-TSqg32Y4",
        "outputId": "95d30f0e-cf4a-414e-aa55-b758d697004e"
      },
      "execution_count": 4,
      "outputs": [
        {
          "output_type": "stream",
          "name": "stdout",
          "text": [
            "[31  2  3  4  5]\n",
            "[31  2  3  4  5]\n"
          ]
        }
      ]
    },
    {
      "cell_type": "code",
      "source": [
        "#anothere example\n",
        "arr = np.array([1, 2, 3, 4, 5])\n",
        "\n",
        "x = arr.copy()\n",
        "y = arr.view()\n",
        "\n",
        "print(x.base)\n",
        "print(y.base)\n",
        "#The copy will returns None.\n",
        "#The view will returns the original array."
      ],
      "metadata": {
        "colab": {
          "base_uri": "https://localhost:8080/"
        },
        "id": "LihEwOTQ4ATe",
        "outputId": "331c4a4b-c44e-4512-8e58-1ac1a80fba76"
      },
      "execution_count": 5,
      "outputs": [
        {
          "output_type": "stream",
          "name": "stdout",
          "text": [
            "None\n",
            "[1 2 3 4 5]\n"
          ]
        }
      ]
    },
    {
      "cell_type": "markdown",
      "source": [
        "# Array Shape"
      ],
      "metadata": {
        "id": "ZMcVMqfP8XHH"
      }
    },
    {
      "cell_type": "code",
      "source": [
        "import numpy as np\n",
        "\n",
        "arr = np.array([[1, 2, 3, 4], [5, 6, 7, 8]])\n",
        "\n",
        "print(arr.shape)"
      ],
      "metadata": {
        "colab": {
          "base_uri": "https://localhost:8080/"
        },
        "id": "0A-B4RNk8bUt",
        "outputId": "3bb02ecd-81ad-4906-f9b0-8b3b8fe83a84"
      },
      "execution_count": 6,
      "outputs": [
        {
          "output_type": "stream",
          "name": "stdout",
          "text": [
            "(2, 4)\n"
          ]
        }
      ]
    },
    {
      "cell_type": "code",
      "source": [
        "#another example\n",
        "arr = np.array([[[1, 2, 3], [4, 5, 6]], [[7, 8, 9], [10, 11, 12]], [[13, 14, 15], [16, 17, 18]]])\n",
        "\n",
        "print(\"Original array:\")\n",
        "print(arr)\n",
        "print(\"Shape of the array:\", arr.shape)"
      ],
      "metadata": {
        "colab": {
          "base_uri": "https://localhost:8080/"
        },
        "id": "xVeZkTbB8pLp",
        "outputId": "c3bf3370-ddc1-4eae-c0f2-c8ba105050b0"
      },
      "execution_count": 7,
      "outputs": [
        {
          "output_type": "stream",
          "name": "stdout",
          "text": [
            "Original array:\n",
            "[[[ 1  2  3]\n",
            "  [ 4  5  6]]\n",
            "\n",
            " [[ 7  8  9]\n",
            "  [10 11 12]]\n",
            "\n",
            " [[13 14 15]\n",
            "  [16 17 18]]]\n",
            "Shape of the array: (3, 2, 3)\n"
          ]
        }
      ]
    },
    {
      "cell_type": "markdown",
      "source": [
        "#Array Reshape\n",
        "Transform the provided 1-D array, comprising 12 elements, into a 2-D array.\n",
        "\n",
        "In this transformation, the outermost dimension will consist of 4 arrays, each containing 3 elements."
      ],
      "metadata": {
        "id": "YKSY8RQ1THRK"
      }
    },
    {
      "cell_type": "code",
      "source": [
        "arr = np.array([1, 2, 3, 4, 5, 6, 7, 8, 9, 10, 11, 12])\n",
        "\n",
        "newarr = arr.reshape(4, 3)\n",
        "\n",
        "print(newarr)"
      ],
      "metadata": {
        "colab": {
          "base_uri": "https://localhost:8080/"
        },
        "id": "bN_0Ui8mTN77",
        "outputId": "a9057e2b-09f1-43ef-a82f-87a9d62b795f"
      },
      "execution_count": 8,
      "outputs": [
        {
          "output_type": "stream",
          "name": "stdout",
          "text": [
            "[[ 1  2  3]\n",
            " [ 4  5  6]\n",
            " [ 7  8  9]\n",
            " [10 11 12]]\n"
          ]
        }
      ]
    },
    {
      "cell_type": "markdown",
      "source": [
        "Transform the given 1-D array, which consists of 12 elements, into a 3-D array structure.\n",
        "\n",
        "In this transformation, the outermost dimension will consist of 2 arrays, each containing 3 arrays, and each of these inner arrays will contain 2 elements."
      ],
      "metadata": {
        "id": "je8FYdDKT9SM"
      }
    },
    {
      "cell_type": "code",
      "source": [
        "arr = np.array([1, 2, 3, 4, 5, 6, 7, 8, 9, 10, 11, 12])\n",
        "\n",
        "newarr = arr.reshape(2, 3, 2)\n",
        "\n",
        "print(newarr)"
      ],
      "metadata": {
        "colab": {
          "base_uri": "https://localhost:8080/"
        },
        "id": "9U3tQHp7Twl4",
        "outputId": "f9354092-1934-4660-c0d1-e8686c09a058"
      },
      "execution_count": 9,
      "outputs": [
        {
          "output_type": "stream",
          "name": "stdout",
          "text": [
            "[[[ 1  2]\n",
            "  [ 3  4]\n",
            "  [ 5  6]]\n",
            "\n",
            " [[ 7  8]\n",
            "  [ 9 10]\n",
            "  [11 12]]]\n"
          ]
        }
      ]
    },
    {
      "cell_type": "markdown",
      "source": [
        "# NumPy Array Iterating"
      ],
      "metadata": {
        "id": "GwXj6CvuWCjI"
      }
    },
    {
      "cell_type": "code",
      "source": [
        "#Iterate on the elements of the following 1-D array as scaler:\n",
        "arr = np.array([1, 2, 3])\n",
        "\n",
        "for x in arr:\n",
        "  print(x)\n",
        "\n",
        "#Iterate on the elements of the following 2-D array as scaler:\n",
        "arr = np.array([[1, 2, 3], [4, 5, 6]])\n",
        "\n",
        "for x in arr:\n",
        "  for y in x:\n",
        "    print(y)\n",
        "#Iterate on the elements of the following 3-D array as scaler:\n",
        "arr = np.array([[[1, 2, 3], [4, 5, 6]], [[7, 8, 9], [10, 11, 12]]])\n",
        "\n",
        "for x in arr:\n",
        "  for y in x:\n",
        "    for z in y:\n",
        "      print(z)"
      ],
      "metadata": {
        "colab": {
          "base_uri": "https://localhost:8080/"
        },
        "id": "v7Q1qEkaWEz4",
        "outputId": "51f43f2a-c647-4c92-8ff5-c330539e7a9c"
      },
      "execution_count": 10,
      "outputs": [
        {
          "output_type": "stream",
          "name": "stdout",
          "text": [
            "1\n",
            "2\n",
            "3\n",
            "1\n",
            "2\n",
            "3\n",
            "4\n",
            "5\n",
            "6\n",
            "1\n",
            "2\n",
            "3\n",
            "4\n",
            "5\n",
            "6\n",
            "7\n",
            "8\n",
            "9\n",
            "10\n",
            "11\n",
            "12\n"
          ]
        }
      ]
    },
    {
      "cell_type": "markdown",
      "source": [
        "# Iterating Arrays Using nditer()"
      ],
      "metadata": {
        "id": "7AjyRgY9XDJF"
      }
    },
    {
      "cell_type": "code",
      "source": [
        "arr = np.array([[[1, 2], [3, 4]], [[5, 6], [7, 8]]])\n",
        "\n",
        "for x in np.nditer(arr):\n",
        "  print(x)"
      ],
      "metadata": {
        "colab": {
          "base_uri": "https://localhost:8080/"
        },
        "id": "KUt5JHfAXHP2",
        "outputId": "63e8a6db-687b-4063-9cec-770bcdf69997"
      },
      "execution_count": 11,
      "outputs": [
        {
          "output_type": "stream",
          "name": "stdout",
          "text": [
            "1\n",
            "2\n",
            "3\n",
            "4\n",
            "5\n",
            "6\n",
            "7\n",
            "8\n"
          ]
        }
      ]
    },
    {
      "cell_type": "code",
      "source": [
        "arr = np.array([1, 2, 3])\n",
        "\n",
        "for x in np.nditer(arr, flags=['buffered'], op_dtypes=['S']):\n",
        "  print(x)"
      ],
      "metadata": {
        "colab": {
          "base_uri": "https://localhost:8080/"
        },
        "id": "ixEg-x0LXTGe",
        "outputId": "8f16868e-c234-4175-ac07-6444f2579fa9"
      },
      "execution_count": 12,
      "outputs": [
        {
          "output_type": "stream",
          "name": "stdout",
          "text": [
            "b'1'\n",
            "b'2'\n",
            "b'3'\n"
          ]
        }
      ]
    },
    {
      "cell_type": "code",
      "source": [
        "arr = np.array([1, 2, 3])\n",
        "\n",
        "for idx, x in np.ndenumerate(arr):\n",
        "  print(idx, x)"
      ],
      "metadata": {
        "colab": {
          "base_uri": "https://localhost:8080/"
        },
        "id": "roaWPEVmXsEs",
        "outputId": "5e289afe-686c-4fe3-8a6d-7b1f14662ebb"
      },
      "execution_count": 13,
      "outputs": [
        {
          "output_type": "stream",
          "name": "stdout",
          "text": [
            "(0,) 1\n",
            "(1,) 2\n",
            "(2,) 3\n"
          ]
        }
      ]
    },
    {
      "cell_type": "markdown",
      "source": [
        "# Joing"
      ],
      "metadata": {
        "id": "lG-2fue2X1jg"
      }
    },
    {
      "cell_type": "code",
      "source": [
        "arr1 = np.array([1, 2, 3])\n",
        "\n",
        "arr2 = np.array([4, 5, 6])\n",
        "\n",
        "arr = np.concatenate((arr1, arr2))\n",
        "\n",
        "print(arr)"
      ],
      "metadata": {
        "colab": {
          "base_uri": "https://localhost:8080/"
        },
        "id": "o4TiBZDsX07Y",
        "outputId": "2350d2af-4b9e-49a7-c09c-480d3c0e3c36"
      },
      "execution_count": 14,
      "outputs": [
        {
          "output_type": "stream",
          "name": "stdout",
          "text": [
            "[1 2 3 4 5 6]\n"
          ]
        }
      ]
    },
    {
      "cell_type": "markdown",
      "source": [
        "Join two 2-D arrays along rows (axis=1):"
      ],
      "metadata": {
        "id": "AjgsPfFLYKP_"
      }
    },
    {
      "cell_type": "code",
      "source": [
        "arr1 = np.array([[1, 2], [3, 4]])\n",
        "\n",
        "arr2 = np.array([[5, 6], [7, 8]])\n",
        "\n",
        "arr = np.concatenate((arr1, arr2), axis=1)\n",
        "\n",
        "print(arr)"
      ],
      "metadata": {
        "id": "_Z4o9MeTYJI7"
      },
      "execution_count": null,
      "outputs": []
    },
    {
      "cell_type": "markdown",
      "source": [
        "# Using stack Function"
      ],
      "metadata": {
        "id": "BTKRQPtSYWZ3"
      }
    },
    {
      "cell_type": "code",
      "source": [
        "#Stacking Along Columns\n",
        "import numpy as np\n",
        "\n",
        "arr1 = np.array([1, 2, 3])\n",
        "\n",
        "arr2 = np.array([4, 5, 6])\n",
        "\n",
        "arr = np.vstack((arr1, arr2))\n",
        "\n",
        "print(arr)"
      ],
      "metadata": {
        "colab": {
          "base_uri": "https://localhost:8080/"
        },
        "id": "ei--JRrwKZcD",
        "outputId": "980ce646-7f97-467c-f842-6faa91ab937d"
      },
      "execution_count": 1,
      "outputs": [
        {
          "output_type": "stream",
          "name": "stdout",
          "text": [
            "[[1 2 3]\n",
            " [4 5 6]]\n"
          ]
        }
      ]
    },
    {
      "cell_type": "code",
      "source": [
        "#Stacking along depth\n",
        "arr1 = np.array([1, 2, 3])\n",
        "\n",
        "arr2 = np.array([4, 5, 6])\n",
        "\n",
        "arr = np.dstack((arr1, arr2))\n",
        "\n",
        "print(arr)"
      ],
      "metadata": {
        "colab": {
          "base_uri": "https://localhost:8080/"
        },
        "id": "SXH9icDfKthR",
        "outputId": "edd03f5d-708d-4434-9f81-c4b1af661db8"
      },
      "execution_count": 2,
      "outputs": [
        {
          "output_type": "stream",
          "name": "stdout",
          "text": [
            "[[[1 4]\n",
            "  [2 5]\n",
            "  [3 6]]]\n"
          ]
        }
      ]
    },
    {
      "cell_type": "markdown",
      "source": [
        "# NumPy Splitting Array"
      ],
      "metadata": {
        "id": "wfbtXazBLMIq"
      }
    },
    {
      "cell_type": "code",
      "source": [
        "arr = np.array([1, 2, 3, 4, 5, 6])\n",
        "\n",
        "newarr = np.array_split(arr, 3)\n",
        "\n",
        "print(newarr)"
      ],
      "metadata": {
        "colab": {
          "base_uri": "https://localhost:8080/"
        },
        "id": "CYWInV89LK3O",
        "outputId": "ef6281d2-e7dc-4e0d-b952-12b4d063e56b"
      },
      "execution_count": 3,
      "outputs": [
        {
          "output_type": "stream",
          "name": "stdout",
          "text": [
            "[array([1, 2]), array([3, 4]), array([5, 6])]\n"
          ]
        }
      ]
    },
    {
      "cell_type": "code",
      "source": [
        "arr = np.array([1, 2, 3, 4, 5, 6])\n",
        "\n",
        "newarr = np.array_split(arr, 4)\n",
        "\n",
        "print(newarr)"
      ],
      "metadata": {
        "colab": {
          "base_uri": "https://localhost:8080/"
        },
        "id": "L3FguZigLWzm",
        "outputId": "a9e5b6f2-e970-4516-bf54-11ad2fc47667"
      },
      "execution_count": 4,
      "outputs": [
        {
          "output_type": "stream",
          "name": "stdout",
          "text": [
            "[array([1, 2]), array([3, 4]), array([5]), array([6])]\n"
          ]
        }
      ]
    },
    {
      "cell_type": "code",
      "source": [
        "#spliting 2-D\n",
        "arr = np.array([[1, 2], [3, 4], [5, 6], [7, 8], [9, 10], [11, 12]])\n",
        "\n",
        "newarr = np.array_split(arr, 3)\n",
        "\n",
        "print(newarr)"
      ],
      "metadata": {
        "colab": {
          "base_uri": "https://localhost:8080/"
        },
        "id": "ab5alQGaLlGQ",
        "outputId": "8a6ddfe7-84d1-4b72-e949-c7515b690036"
      },
      "execution_count": 5,
      "outputs": [
        {
          "output_type": "stream",
          "name": "stdout",
          "text": [
            "[array([[1, 2],\n",
            "       [3, 4]]), array([[5, 6],\n",
            "       [7, 8]]), array([[ 9, 10],\n",
            "       [11, 12]])]\n"
          ]
        }
      ]
    },
    {
      "cell_type": "markdown",
      "source": [
        "Similar alternates to vstack() and dstack() are available as vsplit() and dsplit()."
      ],
      "metadata": {
        "id": "-PWXpRrWL4w7"
      }
    },
    {
      "cell_type": "markdown",
      "source": [
        "# NumPy Searching Arrays"
      ],
      "metadata": {
        "id": "At5sMS1OMDrY"
      }
    },
    {
      "cell_type": "code",
      "source": [
        "arr = np.array([1, 2, 3, 4, 5, 4, 4])\n",
        "\n",
        "x = np.where(arr == 4)\n",
        "\n",
        "print(x)"
      ],
      "metadata": {
        "colab": {
          "base_uri": "https://localhost:8080/"
        },
        "id": "DPxDx4bYMGhp",
        "outputId": "5e8131d4-3557-4808-ec10-99a934767bfb"
      },
      "execution_count": 6,
      "outputs": [
        {
          "output_type": "stream",
          "name": "stdout",
          "text": [
            "(array([3, 5, 6]),)\n"
          ]
        }
      ]
    },
    {
      "cell_type": "markdown",
      "source": [
        " The searchsorted() method is assumed to be used on sorted arrays"
      ],
      "metadata": {
        "id": "XbyJ_HjZMc_j"
      }
    },
    {
      "cell_type": "code",
      "source": [
        "arr = np.array([6, 7, 8, 9])\n",
        "\n",
        "x = np.searchsorted(arr, 7)\n",
        "\n",
        "print(x)"
      ],
      "metadata": {
        "colab": {
          "base_uri": "https://localhost:8080/"
        },
        "id": "DHFTGSmFMkye",
        "outputId": "ab2866cf-7320-415f-c339-e8cb60e114b7"
      },
      "execution_count": 7,
      "outputs": [
        {
          "output_type": "stream",
          "name": "stdout",
          "text": [
            "1\n"
          ]
        }
      ]
    },
    {
      "cell_type": "markdown",
      "source": [
        "# NumPy Sorting Arrays"
      ],
      "metadata": {
        "id": "Kra0VtWuNAwK"
      }
    },
    {
      "cell_type": "code",
      "source": [
        "arr = np.array([3, 2, 0, 1])\n",
        "\n",
        "print(np.sort(arr))"
      ],
      "metadata": {
        "colab": {
          "base_uri": "https://localhost:8080/"
        },
        "id": "vqFx60n3NEeQ",
        "outputId": "18a19c77-1359-4b35-8e7e-75c1f2d55814"
      },
      "execution_count": 9,
      "outputs": [
        {
          "output_type": "stream",
          "name": "stdout",
          "text": [
            "[0 1 2 3]\n"
          ]
        }
      ]
    },
    {
      "cell_type": "markdown",
      "source": [
        "This method returns a copy of the array, leaving the original array unchanged."
      ],
      "metadata": {
        "id": "mqsYor1gNPzx"
      }
    },
    {
      "cell_type": "code",
      "source": [
        "arr = np.array([True, False, True])\n",
        "\n",
        "print(np.sort(arr))"
      ],
      "metadata": {
        "colab": {
          "base_uri": "https://localhost:8080/"
        },
        "id": "X06vMWarNVFT",
        "outputId": "409b23a4-54d9-4d4b-d995-725c3402f142"
      },
      "execution_count": 10,
      "outputs": [
        {
          "output_type": "stream",
          "name": "stdout",
          "text": [
            "[False  True  True]\n"
          ]
        }
      ]
    },
    {
      "cell_type": "code",
      "source": [
        "arr = np.array(['banana', 'cherry', 'apple'])\n",
        "\n",
        "print(np.sort(arr))"
      ],
      "metadata": {
        "colab": {
          "base_uri": "https://localhost:8080/"
        },
        "id": "ZJyziF0DNY6m",
        "outputId": "a3b642c2-0c5e-4fd3-925a-5d1052427579"
      },
      "execution_count": 11,
      "outputs": [
        {
          "output_type": "stream",
          "name": "stdout",
          "text": [
            "['apple' 'banana' 'cherry']\n"
          ]
        }
      ]
    },
    {
      "cell_type": "code",
      "source": [
        "arr = np.array([[3, 2, 4], [5, 0, 1]])\n",
        "\n",
        "print(np.sort(arr))"
      ],
      "metadata": {
        "colab": {
          "base_uri": "https://localhost:8080/"
        },
        "id": "ioNnSry7Ndcx",
        "outputId": "f78f5229-96ed-4526-bd33-b809a883b525"
      },
      "execution_count": 12,
      "outputs": [
        {
          "output_type": "stream",
          "name": "stdout",
          "text": [
            "[[2 3 4]\n",
            " [0 1 5]]\n"
          ]
        }
      ]
    },
    {
      "cell_type": "markdown",
      "source": [
        "# NumPy Filter Array"
      ],
      "metadata": {
        "id": "3gvmMhfHNtR-"
      }
    },
    {
      "cell_type": "code",
      "source": [
        "arr = np.array([41, 42, 43, 44])\n",
        "\n",
        "x = [True, False, True, False]\n",
        "\n",
        "newarr = arr[x]\n",
        "\n",
        "print(newarr)"
      ],
      "metadata": {
        "colab": {
          "base_uri": "https://localhost:8080/"
        },
        "id": "gUDrvbUsN3SN",
        "outputId": "c2e6c22e-ecff-4077-f074-b4b535d6878c"
      },
      "execution_count": 13,
      "outputs": [
        {
          "output_type": "stream",
          "name": "stdout",
          "text": [
            "[41 43]\n"
          ]
        }
      ]
    },
    {
      "cell_type": "code",
      "source": [
        "arr = np.array([41, 42, 43, 44])\n",
        "\n",
        "# Create an empty list\n",
        "filter_arr = []\n",
        "\n",
        "# go through each element in arr\n",
        "for element in arr:\n",
        "  # if the element is higher than 42, set the value to True, otherwise False:\n",
        "  if element > 42:\n",
        "    filter_arr.append(True)\n",
        "  else:\n",
        "    filter_arr.append(False)\n",
        "\n",
        "newarr = arr[filter_arr]\n",
        "\n",
        "print(filter_arr)\n",
        "print(newarr)"
      ],
      "metadata": {
        "colab": {
          "base_uri": "https://localhost:8080/"
        },
        "id": "stlYiXGdN_Vb",
        "outputId": "a11718f2-85f7-4079-ad33-39d4b7d806a2"
      },
      "execution_count": 14,
      "outputs": [
        {
          "output_type": "stream",
          "name": "stdout",
          "text": [
            "[False, False, True, True]\n",
            "[43 44]\n"
          ]
        }
      ]
    },
    {
      "cell_type": "markdown",
      "source": [
        "# Random Numbers in NumPy\n",
        "Generate Random Number"
      ],
      "metadata": {
        "id": "dh6L-ds9S3XO"
      }
    },
    {
      "cell_type": "code",
      "source": [
        "\n",
        "from numpy import random\n",
        "\n",
        "x = random.randint(100)\n",
        "\n",
        "print(x)"
      ],
      "metadata": {
        "colab": {
          "base_uri": "https://localhost:8080/"
        },
        "id": "H723nD3MTPD6",
        "outputId": "8c5bb869-19b1-4ddb-87e5-7b69d71f9d77"
      },
      "execution_count": 16,
      "outputs": [
        {
          "output_type": "stream",
          "name": "stdout",
          "text": [
            "22\n"
          ]
        }
      ]
    },
    {
      "cell_type": "markdown",
      "source": [
        "Generate random Float Number"
      ],
      "metadata": {
        "id": "qYOnrkdcTc1Q"
      }
    },
    {
      "cell_type": "code",
      "source": [
        "from numpy import random\n",
        "\n",
        "x = random.rand()\n",
        "\n",
        "print(x)"
      ],
      "metadata": {
        "colab": {
          "base_uri": "https://localhost:8080/"
        },
        "id": "yDcvDKAnTcEb",
        "outputId": "5a308f43-8f02-4f3c-b55f-ded0eb473c2e"
      },
      "execution_count": 17,
      "outputs": [
        {
          "output_type": "stream",
          "name": "stdout",
          "text": [
            "0.03342155723425155\n"
          ]
        }
      ]
    },
    {
      "cell_type": "markdown",
      "source": [
        "Genrate Random array"
      ],
      "metadata": {
        "id": "p7xJxBPVTrGR"
      }
    },
    {
      "cell_type": "code",
      "source": [
        "x=random.randint(100, size=(5))\n",
        "\n",
        "print(x)"
      ],
      "metadata": {
        "colab": {
          "base_uri": "https://localhost:8080/"
        },
        "id": "R-7lmhuPTp0x",
        "outputId": "6403e3f3-56b1-4845-8fae-0dccf0a69c57"
      },
      "execution_count": 18,
      "outputs": [
        {
          "output_type": "stream",
          "name": "stdout",
          "text": [
            "[54  7 10  3 78]\n"
          ]
        }
      ]
    },
    {
      "cell_type": "markdown",
      "source": [
        "Generate Random 2D array"
      ],
      "metadata": {
        "id": "mFHXp9NCTzej"
      }
    },
    {
      "cell_type": "code",
      "source": [
        "\n",
        "x = random.randint(100, size=(3, 5))\n",
        "\n",
        "print(x)"
      ],
      "metadata": {
        "colab": {
          "base_uri": "https://localhost:8080/"
        },
        "id": "X8xsKl-GTtSY",
        "outputId": "8abab4be-b7b9-4831-d4f0-c8432d1cb7b7"
      },
      "execution_count": 19,
      "outputs": [
        {
          "output_type": "stream",
          "name": "stdout",
          "text": [
            "[[39 28 86  7 68]\n",
            " [50  4 64 83 26]\n",
            " [87 72  3 55 15]]\n"
          ]
        }
      ]
    },
    {
      "cell_type": "markdown",
      "source": [
        "Randaom Data distribution"
      ],
      "metadata": {
        "id": "vjxBGQGlUmm4"
      }
    },
    {
      "cell_type": "markdown",
      "source": [
        "Generate a 1-D array containing 100 values, where each value has to be 3, 5, 7 or 9.\n",
        "\n",
        "The probability for the value to be 3 is set to be 0.1\n",
        "\n",
        "The probability for the value to be 5 is set to be 0.3\n",
        "\n",
        "The probability for the value to be 7 is set to be 0.6\n",
        "\n",
        "The probability for the value to be 9 is set to be 0"
      ],
      "metadata": {
        "id": "exm53LpCVBdP"
      }
    },
    {
      "cell_type": "markdown",
      "source": [
        "The sum of all probability numbers should be 1."
      ],
      "metadata": {
        "id": "VBJ7SqFeVHjU"
      }
    },
    {
      "cell_type": "code",
      "source": [
        "x = random.choice([3, 5, 7, 9], p=[0.1, 0.3, 0.6, 0.0], size=(100))\n",
        "\n",
        "print(x)"
      ],
      "metadata": {
        "colab": {
          "base_uri": "https://localhost:8080/"
        },
        "id": "SPkJ4681Ul5R",
        "outputId": "e372dc6c-6ebb-447e-8afd-bf39f3ff485b"
      },
      "execution_count": 20,
      "outputs": [
        {
          "output_type": "stream",
          "name": "stdout",
          "text": [
            "[7 3 7 5 7 7 5 7 7 7 7 7 7 7 7 5 7 3 3 7 7 7 7 5 7 7 7 5 5 3 7 5 7 5 5 5 7\n",
            " 5 3 7 5 5 3 7 5 7 7 7 7 7 7 7 7 5 7 7 7 5 5 7 7 7 7 5 7 7 7 7 7 3 7 5 5 7\n",
            " 5 7 7 7 7 5 7 5 5 5 3 7 5 7 7 7 7 3 3 7 7 7 5 5 7 3]\n"
          ]
        }
      ]
    },
    {
      "cell_type": "markdown",
      "source": [
        "**Random Permutations**\n",
        " shuffle() and permutation()"
      ],
      "metadata": {
        "id": "H_7LgoNXVUyP"
      }
    },
    {
      "cell_type": "markdown",
      "source": [
        "# Shuffling Arrays"
      ],
      "metadata": {
        "id": "XmPys857VeCu"
      }
    },
    {
      "cell_type": "code",
      "source": [
        "from numpy import random\n",
        "import numpy as np\n",
        "\n",
        "arr = np.array([1, 2, 3, 4, 5])\n",
        "\n",
        "random.shuffle(arr)\n",
        "\n",
        "print(arr)"
      ],
      "metadata": {
        "colab": {
          "base_uri": "https://localhost:8080/"
        },
        "id": "BnaYDIY1VhwB",
        "outputId": "1c762752-d105-4702-e6c5-314a4302be7d"
      },
      "execution_count": 22,
      "outputs": [
        {
          "output_type": "stream",
          "name": "stdout",
          "text": [
            "[2 1 3 4 5]\n"
          ]
        }
      ]
    },
    {
      "cell_type": "markdown",
      "source": [
        "# Generating Permutation of Arrays"
      ],
      "metadata": {
        "id": "RT2-z5MpVni0"
      }
    },
    {
      "cell_type": "code",
      "source": [
        "from numpy import random\n",
        "import numpy as np\n",
        "\n",
        "arr = np.array([1, 2, 3, 4, 5])\n",
        "\n",
        "print(random.permutation(arr))"
      ],
      "metadata": {
        "colab": {
          "base_uri": "https://localhost:8080/"
        },
        "id": "jcSbSUHGVpJv",
        "outputId": "8604a966-769c-4c68-eae1-9a8f379193a2"
      },
      "execution_count": 23,
      "outputs": [
        {
          "output_type": "stream",
          "name": "stdout",
          "text": [
            "[3 5 2 1 4]\n"
          ]
        }
      ]
    },
    {
      "cell_type": "markdown",
      "source": [
        "# Normal Distribution\n",
        "Use the random.normal() method to get a Normal Data Distribution.\n",
        "\n",
        "It has three parameters:\n",
        "\n",
        "loc - (Mean) where the peak of the bell exists.\n",
        "\n",
        "scale - (Standard Deviation) how flat the graph distribution should be.\n",
        "\n",
        "size - The shape of the returned array."
      ],
      "metadata": {
        "id": "mrm8rOtKYtZX"
      }
    },
    {
      "cell_type": "code",
      "source": [
        "x = random.normal(size=(2, 3))\n",
        "\n",
        "print(x)"
      ],
      "metadata": {
        "colab": {
          "base_uri": "https://localhost:8080/"
        },
        "id": "mMI8ZkU1Y5Nb",
        "outputId": "f421352a-de09-44d1-d426-0895608e913b"
      },
      "execution_count": 24,
      "outputs": [
        {
          "output_type": "stream",
          "name": "stdout",
          "text": [
            "[[ 0.36191184  2.02477212  1.07333234]\n",
            " [ 0.01062074 -1.57469718  1.53860779]]\n"
          ]
        }
      ]
    },
    {
      "cell_type": "code",
      "source": [
        "x = random.normal(loc=1, scale=2, size=(2, 3))\n",
        "\n",
        "print(x)"
      ],
      "metadata": {
        "colab": {
          "base_uri": "https://localhost:8080/"
        },
        "id": "WkNSaMsFY_MF",
        "outputId": "ce115077-306f-4e12-b9e9-3dccf0abd867"
      },
      "execution_count": 25,
      "outputs": [
        {
          "output_type": "stream",
          "name": "stdout",
          "text": [
            "[[ 1.80736749  1.7119536   1.41792882]\n",
            " [ 0.80643114 -0.09706229 -0.81855078]]\n"
          ]
        }
      ]
    },
    {
      "cell_type": "code",
      "source": [
        "from numpy import random\n",
        "import matplotlib.pyplot as plt\n",
        "import seaborn as sns\n",
        "\n",
        "sns.distplot(random.normal(size=1000), hist=False)\n",
        "\n",
        "plt.show()"
      ],
      "metadata": {
        "colab": {
          "base_uri": "https://localhost:8080/",
          "height": 620
        },
        "id": "7jzUC_muZGYQ",
        "outputId": "db095676-2575-4cab-fd3f-f32c848f7bf0"
      },
      "execution_count": 26,
      "outputs": [
        {
          "output_type": "stream",
          "name": "stderr",
          "text": [
            "<ipython-input-26-2f9e2247caac>:5: UserWarning: \n",
            "\n",
            "`distplot` is a deprecated function and will be removed in seaborn v0.14.0.\n",
            "\n",
            "Please adapt your code to use either `displot` (a figure-level function with\n",
            "similar flexibility) or `kdeplot` (an axes-level function for kernel density plots).\n",
            "\n",
            "For a guide to updating your code to use the new functions, please see\n",
            "https://gist.github.com/mwaskom/de44147ed2974457ad6372750bbe5751\n",
            "\n",
            "  sns.distplot(random.normal(size=1000), hist=False)\n"
          ]
        },
        {
          "output_type": "display_data",
          "data": {
            "text/plain": [
              "<Figure size 640x480 with 1 Axes>"
            ],
            "image/png": "[encoded data removed]"
          },
          "metadata": {}
        }
      ]
    },
    {
      "cell_type": "markdown",
      "source": [
        "The curve of a Normal Distribution is also known as the Bell Curve because of the bell-shaped curve."
      ],
      "metadata": {
        "id": "JXdEML8pZOrO"
      }
    },
    {
      "cell_type": "markdown",
      "source": [
        "# Binomial Distribution\n",
        "Binomial Distribution is a Discrete Distribution.\n",
        "\n",
        "It describes the outcome of binary scenarios, e.g. toss of a coin, it will either be head or tails.\n",
        "\n",
        "It has three parameters:\n",
        "\n",
        "n - number of trials.\n",
        "\n",
        "p - probability of occurence of each trial (e.g. for toss of a coin 0.5 each).\n",
        "\n",
        "size - The shape of the returned array."
      ],
      "metadata": {
        "id": "rDJjLF6eZn9D"
      }
    },
    {
      "cell_type": "code",
      "source": [
        "x = random.binomial(n=10, p=0.5, size=10)\n",
        "\n",
        "print(x)"
      ],
      "metadata": {
        "colab": {
          "base_uri": "https://localhost:8080/"
        },
        "id": "7c8UYaBmZsrn",
        "outputId": "341d8333-d267-4c73-f457-dd3e7f5424f1"
      },
      "execution_count": 27,
      "outputs": [
        {
          "output_type": "stream",
          "name": "stdout",
          "text": [
            "[6 7 6 3 7 6 6 6 3 5]\n"
          ]
        }
      ]
    },
    {
      "cell_type": "markdown",
      "source": [
        "# Visualization of binomial"
      ],
      "metadata": {
        "id": "6P2XoGf0Z8FV"
      }
    },
    {
      "cell_type": "code",
      "source": [
        "from numpy import random\n",
        "import matplotlib.pyplot as plt\n",
        "import seaborn as sns\n",
        "\n",
        "sns.distplot(random.binomial(n=10, p=0.5, size=1000), hist=True, kde=False)\n",
        "\n",
        "plt.show()"
      ],
      "metadata": {
        "colab": {
          "base_uri": "https://localhost:8080/",
          "height": 617
        },
        "id": "6tXQkkXXZ7SE",
        "outputId": "21ed2fda-39c0-495a-fe90-b2f21955be69"
      },
      "execution_count": 28,
      "outputs": [
        {
          "output_type": "stream",
          "name": "stderr",
          "text": [
            "<ipython-input-28-c6d35445dc7e>:5: UserWarning: \n",
            "\n",
            "`distplot` is a deprecated function and will be removed in seaborn v0.14.0.\n",
            "\n",
            "Please adapt your code to use either `displot` (a figure-level function with\n",
            "similar flexibility) or `histplot` (an axes-level function for histograms).\n",
            "\n",
            "For a guide to updating your code to use the new functions, please see\n",
            "https://gist.github.com/mwaskom/de44147ed2974457ad6372750bbe5751\n",
            "\n",
            "  sns.distplot(random.binomial(n=10, p=0.5, size=1000), hist=True, kde=False)\n"
          ]
        },
        {
          "output_type": "display_data",
          "data": {
            "text/plain": [
              "<Figure size 640x480 with 1 Axes>"
            ],
            "image/png": "[encoded data removed]"
          },
          "metadata": {}
        }
      ]
    },
    {
      "cell_type": "markdown",
      "source": [
        "Normal VS Binomial Visualization"
      ],
      "metadata": {
        "id": "3h26tns_aMFF"
      }
    },
    {
      "cell_type": "code",
      "source": [
        "from numpy import random\n",
        "import matplotlib.pyplot as plt\n",
        "import seaborn as sns\n",
        "\n",
        "sns.distplot(random.normal(loc=50, scale=5, size=1000), hist=False, label='normal')\n",
        "sns.distplot(random.binomial(n=100, p=0.5, size=1000), hist=False, label='binomial')\n",
        "\n",
        "plt.show()"
      ],
      "metadata": {
        "colab": {
          "base_uri": "https://localhost:8080/",
          "height": 804
        },
        "id": "BSnkjk06aRSv",
        "outputId": "0c613603-302c-4780-90eb-0b5a3dc900ea"
      },
      "execution_count": 29,
      "outputs": [
        {
          "output_type": "stream",
          "name": "stderr",
          "text": [
            "<ipython-input-29-a77a88c19db8>:5: UserWarning: \n",
            "\n",
            "`distplot` is a deprecated function and will be removed in seaborn v0.14.0.\n",
            "\n",
            "Please adapt your code to use either `displot` (a figure-level function with\n",
            "similar flexibility) or `kdeplot` (an axes-level function for kernel density plots).\n",
            "\n",
            "For a guide to updating your code to use the new functions, please see\n",
            "https://gist.github.com/mwaskom/de44147ed2974457ad6372750bbe5751\n",
            "\n",
            "  sns.distplot(random.normal(loc=50, scale=5, size=1000), hist=False, label='normal')\n",
            "<ipython-input-29-a77a88c19db8>:6: UserWarning: \n",
            "\n",
            "`distplot` is a deprecated function and will be removed in seaborn v0.14.0.\n",
            "\n",
            "Please adapt your code to use either `displot` (a figure-level function with\n",
            "similar flexibility) or `kdeplot` (an axes-level function for kernel density plots).\n",
            "\n",
            "For a guide to updating your code to use the new functions, please see\n",
            "https://gist.github.com/mwaskom/de44147ed2974457ad6372750bbe5751\n",
            "\n",
            "  sns.distplot(random.binomial(n=100, p=0.5, size=1000), hist=False, label='binomial')\n"
          ]
        },
        {
          "output_type": "display_data",
          "data": {
            "text/plain": [
              "<Figure size 640x480 with 1 Axes>"
            ],
            "image/png": "[encoded data removed]"
          },
          "metadata": {}
        }
      ]
    }
  ]
}